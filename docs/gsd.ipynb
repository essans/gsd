{
 "cells": [
  {
   "cell_type": "code",
   "execution_count": 1,
   "metadata": {},
   "outputs": [],
   "source": [
    "import os\n",
    "import sys\n",
    "import pandas as pd"
   ]
  },
  {
   "cell_type": "code",
   "execution_count": 5,
   "metadata": {},
   "outputs": [
    {
     "name": "stdout",
     "output_type": "stream",
     "text": [
      "The autoreload extension is already loaded. To reload it, use:\n",
      "  %reload_ext autoreload\n"
     ]
    }
   ],
   "source": [
    "%load_ext autoreload\n",
    "%autoreload 2\n",
    "\n",
    "os.chdir(\"/Users/essans/Dropbox/github-essans/gsd/gsd\")\n",
    "\n",
    "import project, gsdUtil, timer, gsdIO\n",
    "\n",
    "from gsd import ProjectConfigs, gsdIO, gsdUtil, Timer"
   ]
  },
  {
   "cell_type": "code",
   "execution_count": 6,
   "metadata": {},
   "outputs": [],
   "source": [
    "pd.set_option('display.max_rows', 250) #pd.get_option(\"display.max_rows\")\n",
    "pd.set_option('display.max_columns', 150)\n",
    "pd.set_option('display.width', 250)"
   ]
  },
  {
   "cell_type": "code",
   "execution_count": 72,
   "metadata": {},
   "outputs": [
    {
     "name": "stdout",
     "output_type": "stream",
     "text": [
      "project_name <- gsd\n",
      "\n",
      "\n",
      "input_data <- {'raw_dir': 'data/raw/', 'processed_dir': 'data/processed/'}\n",
      "  raw_dir <- data/raw/\n",
      "     contains:[]\n",
      "  processed_dir <- data/processed/\n",
      "     contains:[]\n",
      "\n",
      "\n",
      "outputs <- {'outputs_dir': 'outputs/', 'logs_dir': 'outputs/logs/'}\n",
      "  outputs_dir <- outputs/\n",
      "     contains:['metrics', 'visualizations', 'logs', 'predictions']\n",
      "  logs_dir <- outputs/logs/\n",
      "     contains:[]\n",
      "\n",
      "\n",
      "credentials <- {'aws': '/USERS/essans/.aws', 'other': '/USERS/essans/.credentials'}\n",
      "  aws <- /USERS/essans/.aws\n",
      "  other <- /USERS/essans/.credentials\n",
      "\n",
      "\n"
     ]
    }
   ],
   "source": [
    "project = ProjectConfigs()\n",
    "project_dir = project.root_dir()\n",
    "configs = project.configs_from_yaml()\n",
    "\n",
    "project.print_global_configs()   \n",
    "\n",
    "data_dir = configs['input_data']['raw_dir']\n",
    "outputs_dir = configs['outputs']['outputs_dir']\n",
    "credentials = project.load_credentials(configs['credentials'])\n",
    "\n",
    "timer=Timer()\n",
    "gsdUtil.pd_format()"
   ]
  },
  {
   "cell_type": "code",
   "execution_count": null,
   "metadata": {},
   "outputs": [],
   "source": []
  }
 ],
 "metadata": {
  "kernelspec": {
   "display_name": "base",
   "language": "python",
   "name": "python3"
  },
  "language_info": {
   "codemirror_mode": {
    "name": "ipython",
    "version": 3
   },
   "file_extension": ".py",
   "mimetype": "text/x-python",
   "name": "python",
   "nbconvert_exporter": "python",
   "pygments_lexer": "ipython3",
   "version": "3.12.7"
  }
 },
 "nbformat": 4,
 "nbformat_minor": 2
}
