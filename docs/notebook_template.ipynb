{
 "cells": [
  {
   "cell_type": "code",
   "execution_count": 3,
   "metadata": {},
   "outputs": [],
   "source": [
    "import os\n",
    "import sys\n",
    "import pandas as pd"
   ]
  },
  {
   "cell_type": "code",
   "execution_count": null,
   "metadata": {},
   "outputs": [],
   "source": [
    "%load_ext autoreload\n",
    "%autoreload 2\n",
    "import gtd_project, gtd_utils, gtd_timer, gtd_fileops\n",
    "\n",
    "from gtd_project import ProjectConfigs\n",
    "from gtd_timer import Timer\n",
    "from gtd_fileops import create_dir, join_csv\n",
    "from gtd_utils import gtd"
   ]
  },
  {
   "cell_type": "code",
   "execution_count": null,
   "metadata": {},
   "outputs": [],
   "source": [
    "pd.set_option('display.max_rows', 250) #pd.get_option(\"display.max_rows\")\n",
    "pd.set_option('display.max_columns', 150)\n",
    "pd.set_option('display.width', 250)"
   ]
  },
  {
   "cell_type": "code",
   "execution_count": null,
   "metadata": {},
   "outputs": [],
   "source": [
    "project = ProjectConfigs()\n",
    "project_dir = project.root_dir()\n",
    "configs = project.configs_from_yaml()\n",
    "\n",
    "project.print_global_configs()   \n",
    "\n",
    "outputs_dir = configs['outputs']['outputs_dir']"
   ]
  }
 ],
 "metadata": {
  "kernelspec": {
   "display_name": "Python 3",
   "language": "python",
   "name": "python3"
  },
  "language_info": {
   "codemirror_mode": {
    "name": "ipython",
    "version": 3
   },
   "file_extension": ".py",
   "mimetype": "text/x-python",
   "name": "python",
   "nbconvert_exporter": "python",
   "pygments_lexer": "ipython3",
   "version": "3.9.4"
  }
 },
 "nbformat": 4,
 "nbformat_minor": 2
}
